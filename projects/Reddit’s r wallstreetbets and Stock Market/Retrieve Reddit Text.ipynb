{
 "cells": [
  {
   "cell_type": "markdown",
   "id": "d7498023",
   "metadata": {},
   "source": [
    "# Import packages"
   ]
  },
  {
   "cell_type": "code",
   "execution_count": 1,
   "id": "55330688-6617-4ff1-b087-2814eab64d4e",
   "metadata": {},
   "outputs": [],
   "source": [
    "import pandas as pd\n",
    "import requests\n",
    "from psaw import PushshiftAPI\n",
    "from datetime import datetime\n",
    "import time"
   ]
  },
  {
   "cell_type": "markdown",
   "id": "e49fc68f-7a46-462e-80c6-1df7d5d388b2",
   "metadata": {
    "tags": []
   },
   "source": [
    "# Define function to retrieve comments from Pushshift API"
   ]
  },
  {
   "cell_type": "code",
   "execution_count": 212,
   "id": "d047bb53-a1d8-46ac-891e-aba9510de06a",
   "metadata": {
    "tags": []
   },
   "outputs": [],
   "source": [
    "def wsb_comments(start_date, num_year):\n",
    "    month = 12\n",
    "    year = int(num_year)\n",
    "    start_dt = start_date # initial date\n",
    "    dt_format = \"%Y-%m-%d\" # date format to convert\n",
    "    df = pd.DataFrame()\n",
    "    records = 0\n",
    "    api = PushshiftAPI()\n",
    "    \n",
    "    for i in range(month*year):\n",
    "        # calculate the end_date\n",
    "        start_date = datetime.strptime(start_dt, dt_format)\n",
    "        end_date = pd.Period(start_date,freq = 'M').end_time\n",
    "    \n",
    "        # convert end_date into str type\n",
    "        end_dt = end_date.strftime(dt_format)\n",
    "    \n",
    "        # calculate start_epoch and end_epoch\n",
    "        start_epoch = int(time.mktime(datetime.strptime(start_dt, dt_format).timetuple()))\n",
    "        end_epoch = int(time.mktime(datetime.strptime(end_dt, dt_format).timetuple()))\n",
    "    \n",
    "        print(\"Start Time:\", start_date, start_epoch)\n",
    "        print(\"  End Time:\", end_date, end_epoch)\n",
    "        \n",
    "        # extract comments from pushshift.io\n",
    "        sub = list(api.search_comments(\n",
    "                                        # define time range to search\n",
    "                                        after=start_epoch,\n",
    "                                        before=end_epoch,\n",
    "                                        # define how the comments are sorted\n",
    "                                        sort='desc',\n",
    "                                        sort_type='score',\n",
    "                                        # define subreddit to search\n",
    "                                        subreddit='wallstreetbets',\n",
    "                                        # define fields to return\n",
    "                                        filter = ['author', 'body', 'created_utc', 'id', 'link_id', \n",
    "                                                  'score', 'stickied', 'subreddit', 'created', 'is_submitter'],\n",
    "                                        limit=2000))\n",
    "            \n",
    "        # report total records collected\n",
    "        records += len(sub)\n",
    "        print(\"Extracted\", records, \"Comments.\", '\\n')\n",
    "        \n",
    "        # put it into a dataframe\n",
    "        new_df = pd.DataFrame([thing.d_ for thing in sub])\n",
    "        \n",
    "         # combine records\n",
    "        df = pd.concat([df, new_df], ignore_index = True)\n",
    "    \n",
    "        # add a month to start_date and turn it into str type\n",
    "        start_date = start_date + pd.DateOffset(months = 1)\n",
    "        start_dt = start_date.strftime(dt_format)\n",
    "        \n",
    "        # wait for 3 seconds\n",
    "        time.sleep(3)\n",
    "        \n",
    "    # convert date format\n",
    "    df['created_utc'] = pd.to_datetime(df['created_utc'],unit='s')\n",
    "    df['created'] = df['created_utc'].dt.date\n",
    "    \n",
    "    return df"
   ]
  },
  {
   "cell_type": "markdown",
   "id": "69a7e760",
   "metadata": {},
   "source": [
    "# Define function to retrieve submissions from Pushshift API"
   ]
  },
  {
   "cell_type": "code",
   "execution_count": null,
   "id": "b4da0715",
   "metadata": {},
   "outputs": [],
   "source": [
    "def wsb_submissions(start_date, num_year):\n",
    "    month = 12\n",
    "    year = int(num_year)\n",
    "    start_dt = start_date # initial date\n",
    "    dt_format = \"%Y-%m-%d\" # date format to convert\n",
    "    df = pd.DataFrame()\n",
    "    records = 0\n",
    "    api = PushshiftAPI()\n",
    "    \n",
    "    for i in range(month*year):\n",
    "        # calculate the end_date\n",
    "        start_date = datetime.strptime(start_dt, dt_format)\n",
    "        end_date = pd.Period(start_date,freq = 'M').end_time\n",
    "    \n",
    "        # convert end_date into str type\n",
    "        end_dt = end_date.strftime(dt_format)\n",
    "    \n",
    "        # calculate start_epoch and end_epoch\n",
    "        start_epoch = int(time.mktime(datetime.strptime(start_dt, dt_format).timetuple()))\n",
    "        end_epoch = int(time.mktime(datetime.strptime(end_dt, dt_format).timetuple()))\n",
    "    \n",
    "        print(\"Start Time:\", start_date, start_epoch)\n",
    "        print(\"  End Time:\", end_date, end_epoch)\n",
    "        \n",
    "        # extract submissions from pushshift.io\n",
    "        sub = list(api.search_submissions(\n",
    "                                        # define time range to search\n",
    "                                        after=start_epoch,\n",
    "                                        before=end_epoch,\n",
    "                                        # define how the submissions are sorted\n",
    "                                        sort='desc',\n",
    "                                        sort_type='score',\n",
    "                                        # define subreddit to search\n",
    "                                        subreddit='wallstreetbets',\n",
    "                                        # define fields to return\n",
    "                                        filter = ['author', 'author_fullname', 'created_utc', 'full_link', \n",
    "                                                  'id','num_comments', 'selftext', 'stickied', \n",
    "                                                  'subreddit', 'title', 'created', 'removed_by_category'],\n",
    "                                        limit=2000))\n",
    "            \n",
    "        # report total records collected\n",
    "        records += len(sub)\n",
    "        print(\"Extracted\", records, \"Submissions.\", '\\n')\n",
    "        \n",
    "        # put it into a dataframe\n",
    "        new_df = pd.DataFrame([thing.d_ for thing in sub])\n",
    "        \n",
    "         # combine records\n",
    "        df = pd.concat([df, new_df], ignore_index = True)\n",
    "    \n",
    "        # add a month to start_date and turn it into str type\n",
    "        start_date = start_date + pd.DateOffset(months = 1)\n",
    "        start_dt = start_date.strftime(dt_format)\n",
    "        \n",
    "        # wait for 3 seconds\n",
    "        time.sleep(3)\n",
    "        \n",
    "    # convert date format\n",
    "    df['created_utc'] = pd.to_datetime(df['created_utc'],unit='s')\n",
    "    df['created'] = df['created_utc'].dt.date\n",
    "    \n",
    "    return df"
   ]
  },
  {
   "cell_type": "markdown",
   "id": "282b258d",
   "metadata": {},
   "source": [
    "# Retrieve 3 years of submissions and comments from r/wallstreetbets starting from 01/01/2019"
   ]
  },
  {
   "cell_type": "code",
   "execution_count": 213,
   "id": "f5c68e77-43cb-40f1-bfcd-c9c05fdc86bf",
   "metadata": {
    "collapsed": true,
    "jupyter": {
     "outputs_hidden": true
    },
    "tags": []
   },
   "outputs": [
    {
     "name": "stdout",
     "output_type": "stream",
     "text": [
      "Start Time: 2019-01-01 00:00:00 1546318800\n",
      "  End Time: 2019-01-31 23:59:59.999999999 1548910800\n"
     ]
    },
    {
     "name": "stderr",
     "output_type": "stream",
     "text": [
      "/opt/homebrew/lib/python3.9/site-packages/psaw/PushshiftAPI.py:252: UserWarning: Not all PushShift shards are active. Query results may be incomplete\n",
      "  warnings.warn(shards_down_message)\n"
     ]
    },
    {
     "name": "stdout",
     "output_type": "stream",
     "text": [
      "Extracted 1703 Comments. \n",
      "\n",
      "Start Time: 2019-02-01 00:00:00 1548997200\n",
      "  End Time: 2019-02-28 23:59:59.999999999 1551330000\n"
     ]
    },
    {
     "name": "stderr",
     "output_type": "stream",
     "text": [
      "/opt/homebrew/lib/python3.9/site-packages/psaw/PushshiftAPI.py:252: UserWarning: Not all PushShift shards are active. Query results may be incomplete\n",
      "  warnings.warn(shards_down_message)\n"
     ]
    },
    {
     "name": "stdout",
     "output_type": "stream",
     "text": [
      "Extracted 2888 Comments. \n",
      "\n",
      "Start Time: 2019-03-01 00:00:00 1551416400\n",
      "  End Time: 2019-03-31 23:59:59.999999999 1554004800\n"
     ]
    },
    {
     "name": "stderr",
     "output_type": "stream",
     "text": [
      "/opt/homebrew/lib/python3.9/site-packages/psaw/PushshiftAPI.py:252: UserWarning: Not all PushShift shards are active. Query results may be incomplete\n",
      "  warnings.warn(shards_down_message)\n"
     ]
    },
    {
     "name": "stdout",
     "output_type": "stream",
     "text": [
      "Extracted 4195 Comments. \n",
      "\n",
      "Start Time: 2019-04-01 00:00:00 1554091200\n",
      "  End Time: 2019-04-30 23:59:59.999999999 1556596800\n"
     ]
    },
    {
     "name": "stderr",
     "output_type": "stream",
     "text": [
      "/opt/homebrew/lib/python3.9/site-packages/psaw/PushshiftAPI.py:252: UserWarning: Not all PushShift shards are active. Query results may be incomplete\n",
      "  warnings.warn(shards_down_message)\n"
     ]
    },
    {
     "name": "stdout",
     "output_type": "stream",
     "text": [
      "Extracted 5044 Comments. \n",
      "\n",
      "Start Time: 2019-05-01 00:00:00 1556683200\n",
      "  End Time: 2019-05-31 23:59:59.999999999 1559275200\n"
     ]
    },
    {
     "name": "stderr",
     "output_type": "stream",
     "text": [
      "/opt/homebrew/lib/python3.9/site-packages/psaw/PushshiftAPI.py:252: UserWarning: Not all PushShift shards are active. Query results may be incomplete\n",
      "  warnings.warn(shards_down_message)\n"
     ]
    },
    {
     "name": "stdout",
     "output_type": "stream",
     "text": [
      "Extracted 5815 Comments. \n",
      "\n",
      "Start Time: 2019-06-01 00:00:00 1559361600\n",
      "  End Time: 2019-06-30 23:59:59.999999999 1561867200\n"
     ]
    },
    {
     "name": "stderr",
     "output_type": "stream",
     "text": [
      "/opt/homebrew/lib/python3.9/site-packages/psaw/PushshiftAPI.py:252: UserWarning: Not all PushShift shards are active. Query results may be incomplete\n",
      "  warnings.warn(shards_down_message)\n"
     ]
    },
    {
     "name": "stdout",
     "output_type": "stream",
     "text": [
      "Extracted 6749 Comments. \n",
      "\n",
      "Start Time: 2019-07-01 00:00:00 1561953600\n",
      "  End Time: 2019-07-31 23:59:59.999999999 1564545600\n"
     ]
    },
    {
     "name": "stderr",
     "output_type": "stream",
     "text": [
      "/opt/homebrew/lib/python3.9/site-packages/psaw/PushshiftAPI.py:252: UserWarning: Not all PushShift shards are active. Query results may be incomplete\n",
      "  warnings.warn(shards_down_message)\n"
     ]
    },
    {
     "name": "stdout",
     "output_type": "stream",
     "text": [
      "Extracted 7452 Comments. \n",
      "\n",
      "Start Time: 2019-08-01 00:00:00 1564632000\n",
      "  End Time: 2019-08-31 23:59:59.999999999 1567224000\n"
     ]
    },
    {
     "name": "stderr",
     "output_type": "stream",
     "text": [
      "/opt/homebrew/lib/python3.9/site-packages/psaw/PushshiftAPI.py:252: UserWarning: Not all PushShift shards are active. Query results may be incomplete\n",
      "  warnings.warn(shards_down_message)\n"
     ]
    },
    {
     "name": "stdout",
     "output_type": "stream",
     "text": [
      "Extracted 8669 Comments. \n",
      "\n",
      "Start Time: 2019-09-01 00:00:00 1567310400\n",
      "  End Time: 2019-09-30 23:59:59.999999999 1569816000\n"
     ]
    },
    {
     "name": "stderr",
     "output_type": "stream",
     "text": [
      "/opt/homebrew/lib/python3.9/site-packages/psaw/PushshiftAPI.py:252: UserWarning: Not all PushShift shards are active. Query results may be incomplete\n",
      "  warnings.warn(shards_down_message)\n"
     ]
    },
    {
     "name": "stdout",
     "output_type": "stream",
     "text": [
      "Extracted 9710 Comments. \n",
      "\n",
      "Start Time: 2019-10-01 00:00:00 1569902400\n",
      "  End Time: 2019-10-31 23:59:59.999999999 1572494400\n"
     ]
    },
    {
     "name": "stderr",
     "output_type": "stream",
     "text": [
      "/opt/homebrew/lib/python3.9/site-packages/psaw/PushshiftAPI.py:252: UserWarning: Not all PushShift shards are active. Query results may be incomplete\n",
      "  warnings.warn(shards_down_message)\n"
     ]
    },
    {
     "name": "stdout",
     "output_type": "stream",
     "text": [
      "Extracted 10794 Comments. \n",
      "\n",
      "Start Time: 2019-11-01 00:00:00 1572580800\n",
      "  End Time: 2019-11-30 23:59:59.999999999 1575090000\n"
     ]
    },
    {
     "name": "stderr",
     "output_type": "stream",
     "text": [
      "/opt/homebrew/lib/python3.9/site-packages/psaw/PushshiftAPI.py:252: UserWarning: Not all PushShift shards are active. Query results may be incomplete\n",
      "  warnings.warn(shards_down_message)\n"
     ]
    },
    {
     "name": "stdout",
     "output_type": "stream",
     "text": [
      "Extracted 12360 Comments. \n",
      "\n",
      "Start Time: 2019-12-01 00:00:00 1575176400\n",
      "  End Time: 2019-12-31 23:59:59.999999999 1577768400\n"
     ]
    },
    {
     "name": "stderr",
     "output_type": "stream",
     "text": [
      "/opt/homebrew/lib/python3.9/site-packages/psaw/PushshiftAPI.py:252: UserWarning: Not all PushShift shards are active. Query results may be incomplete\n",
      "  warnings.warn(shards_down_message)\n"
     ]
    },
    {
     "name": "stdout",
     "output_type": "stream",
     "text": [
      "Extracted 12950 Comments. \n",
      "\n",
      "Start Time: 2020-01-01 00:00:00 1577854800\n",
      "  End Time: 2020-01-31 23:59:59.999999999 1580446800\n"
     ]
    },
    {
     "name": "stderr",
     "output_type": "stream",
     "text": [
      "/opt/homebrew/lib/python3.9/site-packages/psaw/PushshiftAPI.py:252: UserWarning: Not all PushShift shards are active. Query results may be incomplete\n",
      "  warnings.warn(shards_down_message)\n"
     ]
    },
    {
     "name": "stdout",
     "output_type": "stream",
     "text": [
      "Extracted 14007 Comments. \n",
      "\n",
      "Start Time: 2020-02-01 00:00:00 1580533200\n",
      "  End Time: 2020-02-29 23:59:59.999999999 1582952400\n"
     ]
    },
    {
     "name": "stderr",
     "output_type": "stream",
     "text": [
      "/opt/homebrew/lib/python3.9/site-packages/psaw/PushshiftAPI.py:252: UserWarning: Not all PushShift shards are active. Query results may be incomplete\n",
      "  warnings.warn(shards_down_message)\n"
     ]
    },
    {
     "name": "stdout",
     "output_type": "stream",
     "text": [
      "Extracted 15042 Comments. \n",
      "\n",
      "Start Time: 2020-03-01 00:00:00 1583038800\n",
      "  End Time: 2020-03-31 23:59:59.999999999 1585627200\n"
     ]
    },
    {
     "name": "stderr",
     "output_type": "stream",
     "text": [
      "/opt/homebrew/lib/python3.9/site-packages/psaw/PushshiftAPI.py:252: UserWarning: Not all PushShift shards are active. Query results may be incomplete\n",
      "  warnings.warn(shards_down_message)\n"
     ]
    },
    {
     "name": "stdout",
     "output_type": "stream",
     "text": [
      "Extracted 16587 Comments. \n",
      "\n",
      "Start Time: 2020-04-01 00:00:00 1585713600\n",
      "  End Time: 2020-04-30 23:59:59.999999999 1588219200\n"
     ]
    },
    {
     "name": "stderr",
     "output_type": "stream",
     "text": [
      "/opt/homebrew/lib/python3.9/site-packages/psaw/PushshiftAPI.py:252: UserWarning: Not all PushShift shards are active. Query results may be incomplete\n",
      "  warnings.warn(shards_down_message)\n"
     ]
    },
    {
     "name": "stdout",
     "output_type": "stream",
     "text": [
      "Extracted 17706 Comments. \n",
      "\n",
      "Start Time: 2020-05-01 00:00:00 1588305600\n",
      "  End Time: 2020-05-31 23:59:59.999999999 1590897600\n"
     ]
    },
    {
     "name": "stderr",
     "output_type": "stream",
     "text": [
      "/opt/homebrew/lib/python3.9/site-packages/psaw/PushshiftAPI.py:252: UserWarning: Not all PushShift shards are active. Query results may be incomplete\n",
      "  warnings.warn(shards_down_message)\n",
      "/opt/homebrew/lib/python3.9/site-packages/psaw/PushshiftAPI.py:192: UserWarning: Got non 200 code 429\n",
      "  warnings.warn(\"Got non 200 code %s\" % response.status_code)\n",
      "/opt/homebrew/lib/python3.9/site-packages/psaw/PushshiftAPI.py:180: UserWarning: Unable to connect to pushshift.io. Retrying after backoff.\n",
      "  warnings.warn(\"Unable to connect to pushshift.io. Retrying after backoff.\")\n"
     ]
    },
    {
     "name": "stdout",
     "output_type": "stream",
     "text": [
      "Extracted 19449 Comments. \n",
      "\n",
      "Start Time: 2020-06-01 00:00:00 1590984000\n",
      "  End Time: 2020-06-30 23:59:59.999999999 1593489600\n"
     ]
    },
    {
     "name": "stderr",
     "output_type": "stream",
     "text": [
      "/opt/homebrew/lib/python3.9/site-packages/psaw/PushshiftAPI.py:252: UserWarning: Not all PushShift shards are active. Query results may be incomplete\n",
      "  warnings.warn(shards_down_message)\n"
     ]
    },
    {
     "name": "stdout",
     "output_type": "stream",
     "text": [
      "Extracted 20998 Comments. \n",
      "\n",
      "Start Time: 2020-07-01 00:00:00 1593576000\n",
      "  End Time: 2020-07-31 23:59:59.999999999 1596168000\n"
     ]
    },
    {
     "name": "stderr",
     "output_type": "stream",
     "text": [
      "/opt/homebrew/lib/python3.9/site-packages/psaw/PushshiftAPI.py:252: UserWarning: Not all PushShift shards are active. Query results may be incomplete\n",
      "  warnings.warn(shards_down_message)\n"
     ]
    },
    {
     "name": "stdout",
     "output_type": "stream",
     "text": [
      "Extracted 22392 Comments. \n",
      "\n",
      "Start Time: 2020-08-01 00:00:00 1596254400\n",
      "  End Time: 2020-08-31 23:59:59.999999999 1598846400\n"
     ]
    },
    {
     "name": "stderr",
     "output_type": "stream",
     "text": [
      "/opt/homebrew/lib/python3.9/site-packages/psaw/PushshiftAPI.py:252: UserWarning: Not all PushShift shards are active. Query results may be incomplete\n",
      "  warnings.warn(shards_down_message)\n"
     ]
    },
    {
     "name": "stdout",
     "output_type": "stream",
     "text": [
      "Extracted 23898 Comments. \n",
      "\n",
      "Start Time: 2020-09-01 00:00:00 1598932800\n",
      "  End Time: 2020-09-30 23:59:59.999999999 1601438400\n"
     ]
    },
    {
     "name": "stderr",
     "output_type": "stream",
     "text": [
      "/opt/homebrew/lib/python3.9/site-packages/psaw/PushshiftAPI.py:252: UserWarning: Not all PushShift shards are active. Query results may be incomplete\n",
      "  warnings.warn(shards_down_message)\n"
     ]
    },
    {
     "name": "stdout",
     "output_type": "stream",
     "text": [
      "Extracted 25027 Comments. \n",
      "\n",
      "Start Time: 2020-10-01 00:00:00 1601524800\n",
      "  End Time: 2020-10-31 23:59:59.999999999 1604116800\n"
     ]
    },
    {
     "name": "stderr",
     "output_type": "stream",
     "text": [
      "/opt/homebrew/lib/python3.9/site-packages/psaw/PushshiftAPI.py:252: UserWarning: Not all PushShift shards are active. Query results may be incomplete\n",
      "  warnings.warn(shards_down_message)\n"
     ]
    },
    {
     "name": "stdout",
     "output_type": "stream",
     "text": [
      "Extracted 26134 Comments. \n",
      "\n",
      "Start Time: 2020-11-01 00:00:00 1604203200\n",
      "  End Time: 2020-11-30 23:59:59.999999999 1606712400\n"
     ]
    },
    {
     "name": "stderr",
     "output_type": "stream",
     "text": [
      "/opt/homebrew/lib/python3.9/site-packages/psaw/PushshiftAPI.py:252: UserWarning: Not all PushShift shards are active. Query results may be incomplete\n",
      "  warnings.warn(shards_down_message)\n",
      "/opt/homebrew/lib/python3.9/site-packages/psaw/PushshiftAPI.py:192: UserWarning: Got non 200 code 429\n",
      "  warnings.warn(\"Got non 200 code %s\" % response.status_code)\n",
      "/opt/homebrew/lib/python3.9/site-packages/psaw/PushshiftAPI.py:180: UserWarning: Unable to connect to pushshift.io. Retrying after backoff.\n",
      "  warnings.warn(\"Unable to connect to pushshift.io. Retrying after backoff.\")\n"
     ]
    },
    {
     "name": "stdout",
     "output_type": "stream",
     "text": [
      "Extracted 27871 Comments. \n",
      "\n",
      "Start Time: 2020-12-01 00:00:00 1606798800\n",
      "  End Time: 2020-12-31 23:59:59.999999999 1609390800\n",
      "Extracted 29171 Comments. \n",
      "\n",
      "Start Time: 2021-01-01 00:00:00 1609477200\n",
      "  End Time: 2021-01-31 23:59:59.999999999 1612069200\n",
      "Extracted 31168 Comments. \n",
      "\n",
      "Start Time: 2021-02-01 00:00:00 1612155600\n",
      "  End Time: 2021-02-28 23:59:59.999999999 1614488400\n",
      "Extracted 31940 Comments. \n",
      "\n",
      "Start Time: 2021-03-01 00:00:00 1614574800\n",
      "  End Time: 2021-03-31 23:59:59.999999999 1617163200\n",
      "Extracted 33922 Comments. \n",
      "\n",
      "Start Time: 2021-04-01 00:00:00 1617249600\n",
      "  End Time: 2021-04-30 23:59:59.999999999 1619755200\n",
      "Extracted 35818 Comments. \n",
      "\n",
      "Start Time: 2021-05-01 00:00:00 1619841600\n",
      "  End Time: 2021-05-31 23:59:59.999999999 1622433600\n",
      "Extracted 36829 Comments. \n",
      "\n",
      "Start Time: 2021-06-01 00:00:00 1622520000\n",
      "  End Time: 2021-06-30 23:59:59.999999999 1625025600\n",
      "Extracted 38146 Comments. \n",
      "\n",
      "Start Time: 2021-07-01 00:00:00 1625112000\n",
      "  End Time: 2021-07-31 23:59:59.999999999 1627704000\n",
      "Extracted 38907 Comments. \n",
      "\n",
      "Start Time: 2021-08-01 00:00:00 1627790400\n",
      "  End Time: 2021-08-31 23:59:59.999999999 1630382400\n"
     ]
    },
    {
     "name": "stderr",
     "output_type": "stream",
     "text": [
      "/opt/homebrew/lib/python3.9/site-packages/psaw/PushshiftAPI.py:192: UserWarning: Got non 200 code 429\n",
      "  warnings.warn(\"Got non 200 code %s\" % response.status_code)\n",
      "/opt/homebrew/lib/python3.9/site-packages/psaw/PushshiftAPI.py:180: UserWarning: Unable to connect to pushshift.io. Retrying after backoff.\n",
      "  warnings.warn(\"Unable to connect to pushshift.io. Retrying after backoff.\")\n"
     ]
    },
    {
     "name": "stdout",
     "output_type": "stream",
     "text": [
      "Extracted 40900 Comments. \n",
      "\n",
      "Start Time: 2021-09-01 00:00:00 1630468800\n",
      "  End Time: 2021-09-30 23:59:59.999999999 1632974400\n",
      "Extracted 41486 Comments. \n",
      "\n",
      "Start Time: 2021-10-01 00:00:00 1633060800\n",
      "  End Time: 2021-10-31 23:59:59.999999999 1635652800\n",
      "Extracted 42722 Comments. \n",
      "\n",
      "Start Time: 2021-11-01 00:00:00 1635739200\n",
      "  End Time: 2021-11-30 23:59:59.999999999 1638248400\n"
     ]
    },
    {
     "name": "stderr",
     "output_type": "stream",
     "text": [
      "/opt/homebrew/lib/python3.9/site-packages/psaw/PushshiftAPI.py:192: UserWarning: Got non 200 code 429\n",
      "  warnings.warn(\"Got non 200 code %s\" % response.status_code)\n",
      "/opt/homebrew/lib/python3.9/site-packages/psaw/PushshiftAPI.py:180: UserWarning: Unable to connect to pushshift.io. Retrying after backoff.\n",
      "  warnings.warn(\"Unable to connect to pushshift.io. Retrying after backoff.\")\n"
     ]
    },
    {
     "name": "stdout",
     "output_type": "stream",
     "text": [
      "Extracted 43928 Comments. \n",
      "\n",
      "Start Time: 2021-12-01 00:00:00 1638334800\n",
      "  End Time: 2021-12-31 23:59:59.999999999 1640926800\n"
     ]
    },
    {
     "name": "stderr",
     "output_type": "stream",
     "text": [
      "/opt/homebrew/lib/python3.9/site-packages/psaw/PushshiftAPI.py:192: UserWarning: Got non 200 code 429\n",
      "  warnings.warn(\"Got non 200 code %s\" % response.status_code)\n",
      "/opt/homebrew/lib/python3.9/site-packages/psaw/PushshiftAPI.py:180: UserWarning: Unable to connect to pushshift.io. Retrying after backoff.\n",
      "  warnings.warn(\"Unable to connect to pushshift.io. Retrying after backoff.\")\n"
     ]
    },
    {
     "name": "stdout",
     "output_type": "stream",
     "text": [
      "Extracted 44622 Comments. \n",
      "\n"
     ]
    }
   ],
   "source": [
    "submissions_19_21 = wsb_submissions('2019-01-01', 3)\n",
    "comments_19_21 = wsb_comments('2019-01-01', 3)"
   ]
  },
  {
   "cell_type": "markdown",
   "id": "5f2c7a11",
   "metadata": {},
   "source": [
    "# Write retrieved comments and submissions to csv files"
   ]
  },
  {
   "cell_type": "code",
   "execution_count": 215,
   "id": "d88a4b7c-fbb0-4cea-8c36-e238269379c2",
   "metadata": {},
   "outputs": [],
   "source": [
    "comments_19_21.to_csv('Csv files\\wsb_hot_comments_19_21.csv', index=False)\n",
    "submissions_19_21.to_csv('Csv files\\wsb_hot_subs_19_21.csv', index=False)"
   ]
  }
 ],
 "metadata": {
  "kernelspec": {
   "display_name": "Python 3.10.4 ('DCHOW')",
   "language": "python",
   "name": "python3"
  },
  "language_info": {
   "codemirror_mode": {
    "name": "ipython",
    "version": 3
   },
   "file_extension": ".py",
   "mimetype": "text/x-python",
   "name": "python",
   "nbconvert_exporter": "python",
   "pygments_lexer": "ipython3",
   "version": "3.10.4"
  },
  "vscode": {
   "interpreter": {
    "hash": "9a2661b94f7b93fa0490d408e5faa0804a14713204ff4e77739cfeddff6ffe6b"
   }
  }
 },
 "nbformat": 4,
 "nbformat_minor": 5
}
