{
 "cells": [
  {
   "cell_type": "markdown",
   "id": "e55aba85",
   "metadata": {},
   "source": [
    "[Summary presentation slides](https://drive.google.com/file/d/1aKTlZQGOroZ7We19O0MSVogCMj3kWG5g/view?usp=sharing)  \n",
    "[R codes used to conduct analysis](http://rpubs.com/DCHOW99/940482)"
   ]
  },
  {
   "cell_type": "markdown",
   "id": "5805b0b4",
   "metadata": {},
   "source": [
    "# The follow codes were used to retrieve posts and comments from r/wallstreetbets from Pushshift API using Python"
   ]
  },
  {
   "cell_type": "markdown",
   "id": "d7498023",
   "metadata": {},
   "source": [
    "# Import packages"
   ]
  },
  {
   "cell_type": "code",
   "execution_count": 1,
   "id": "55330688-6617-4ff1-b087-2814eab64d4e",
   "metadata": {},
   "outputs": [],
   "source": [
    "import pandas as pd\n",
    "import requests\n",
    "from psaw import PushshiftAPI\n",
    "from datetime import datetime\n",
    "import time"
   ]
  },
  {
   "cell_type": "markdown",
   "id": "e49fc68f-7a46-462e-80c6-1df7d5d388b2",
   "metadata": {
    "tags": []
   },
   "source": [
    "# Define function to retrieve comments from Pushshift API"
   ]
  },
  {
   "cell_type": "code",
   "execution_count": 212,
   "id": "d047bb53-a1d8-46ac-891e-aba9510de06a",
   "metadata": {
    "tags": []
   },
   "outputs": [],
   "source": [
    "def wsb_comments(start_date, num_year):\n",
    "    month = 12\n",
    "    year = int(num_year)\n",
    "    start_dt = start_date # initial date\n",
    "    dt_format = \"%Y-%m-%d\" # date format to convert\n",
    "    df = pd.DataFrame()\n",
    "    records = 0\n",
    "    api = PushshiftAPI()\n",
    "    \n",
    "    for i in range(month*year):\n",
    "        # calculate the end_date\n",
    "        start_date = datetime.strptime(start_dt, dt_format)\n",
    "        end_date = pd.Period(start_date,freq = 'M').end_time\n",
    "    \n",
    "        # convert end_date into str type\n",
    "        end_dt = end_date.strftime(dt_format)\n",
    "    \n",
    "        # calculate start_epoch and end_epoch\n",
    "        start_epoch = int(time.mktime(datetime.strptime(start_dt, dt_format).timetuple()))\n",
    "        end_epoch = int(time.mktime(datetime.strptime(end_dt, dt_format).timetuple()))\n",
    "    \n",
    "        print(\"Start Time:\", start_date, start_epoch)\n",
    "        print(\"  End Time:\", end_date, end_epoch)\n",
    "        \n",
    "        # extract comments from pushshift.io\n",
    "        sub = list(api.search_comments(\n",
    "                                        # define time range to search\n",
    "                                        after=start_epoch,\n",
    "                                        before=end_epoch,\n",
    "                                        # define how the comments are sorted\n",
    "                                        sort='desc',\n",
    "                                        sort_type='score',\n",
    "                                        # define subreddit to search\n",
    "                                        subreddit='wallstreetbets',\n",
    "                                        # define fields to return\n",
    "                                        filter = ['author', 'body', 'created_utc', 'id', 'link_id', \n",
    "                                                  'score', 'stickied', 'subreddit', 'created', 'is_submitter'],\n",
    "                                        limit=2000))\n",
    "            \n",
    "        # report total records collected\n",
    "        records += len(sub)\n",
    "        print(\"Extracted\", records, \"Comments.\", '\\n')\n",
    "        \n",
    "        # put it into a dataframe\n",
    "        new_df = pd.DataFrame([thing.d_ for thing in sub])\n",
    "        \n",
    "         # combine records\n",
    "        df = pd.concat([df, new_df], ignore_index = True)\n",
    "    \n",
    "        # add a month to start_date and turn it into str type\n",
    "        start_date = start_date + pd.DateOffset(months = 1)\n",
    "        start_dt = start_date.strftime(dt_format)\n",
    "        \n",
    "        # wait for 3 seconds\n",
    "        time.sleep(3)\n",
    "        \n",
    "    # convert date format\n",
    "    df['created_utc'] = pd.to_datetime(df['created_utc'],unit='s')\n",
    "    df['created'] = df['created_utc'].dt.date\n",
    "    \n",
    "    return df"
   ]
  },
  {
   "cell_type": "markdown",
   "id": "69a7e760",
   "metadata": {},
   "source": [
    "# Define function to retrieve submissions from Pushshift API"
   ]
  },
  {
   "cell_type": "code",
   "execution_count": null,
   "id": "b4da0715",
   "metadata": {},
   "outputs": [],
   "source": [
    "def wsb_submissions(start_date, num_year):\n",
    "    month = 12\n",
    "    year = int(num_year)\n",
    "    start_dt = start_date # initial date\n",
    "    dt_format = \"%Y-%m-%d\" # date format to convert\n",
    "    df = pd.DataFrame()\n",
    "    records = 0\n",
    "    api = PushshiftAPI()\n",
    "    \n",
    "    for i in range(month*year):\n",
    "        # calculate the end_date\n",
    "        start_date = datetime.strptime(start_dt, dt_format)\n",
    "        end_date = pd.Period(start_date,freq = 'M').end_time\n",
    "    \n",
    "        # convert end_date into str type\n",
    "        end_dt = end_date.strftime(dt_format)\n",
    "    \n",
    "        # calculate start_epoch and end_epoch\n",
    "        start_epoch = int(time.mktime(datetime.strptime(start_dt, dt_format).timetuple()))\n",
    "        end_epoch = int(time.mktime(datetime.strptime(end_dt, dt_format).timetuple()))\n",
    "    \n",
    "        print(\"Start Time:\", start_date, start_epoch)\n",
    "        print(\"  End Time:\", end_date, end_epoch)\n",
    "        \n",
    "        # extract submissions from pushshift.io\n",
    "        sub = list(api.search_submissions(\n",
    "                                        # define time range to search\n",
    "                                        after=start_epoch,\n",
    "                                        before=end_epoch,\n",
    "                                        # define how the submissions are sorted\n",
    "                                        sort='desc',\n",
    "                                        sort_type='score',\n",
    "                                        # define subreddit to search\n",
    "                                        subreddit='wallstreetbets',\n",
    "                                        # define fields to return\n",
    "                                        filter = ['author', 'author_fullname', 'created_utc', 'full_link', \n",
    "                                                  'id','num_comments', 'selftext', 'stickied', \n",
    "                                                  'subreddit', 'title', 'created', 'removed_by_category'],\n",
    "                                        limit=2000))\n",
    "            \n",
    "        # report total records collected\n",
    "        records += len(sub)\n",
    "        print(\"Extracted\", records, \"Submissions.\", '\\n')\n",
    "        \n",
    "        # put it into a dataframe\n",
    "        new_df = pd.DataFrame([thing.d_ for thing in sub])\n",
    "        \n",
    "         # combine records\n",
    "        df = pd.concat([df, new_df], ignore_index = True)\n",
    "    \n",
    "        # add a month to start_date and turn it into str type\n",
    "        start_date = start_date + pd.DateOffset(months = 1)\n",
    "        start_dt = start_date.strftime(dt_format)\n",
    "        \n",
    "        # wait for 3 seconds\n",
    "        time.sleep(3)\n",
    "        \n",
    "    # convert date format\n",
    "    df['created_utc'] = pd.to_datetime(df['created_utc'],unit='s')\n",
    "    df['created'] = df['created_utc'].dt.date\n",
    "    \n",
    "    return df"
   ]
  },
  {
   "cell_type": "markdown",
   "id": "282b258d",
   "metadata": {},
   "source": [
    "# Retrieve 3 years of submissions and comments from r/wallstreetbets starting from 01/01/2019"
   ]
  },
  {
   "cell_type": "code",
   "execution_count": null,
   "id": "f5c68e77-43cb-40f1-bfcd-c9c05fdc86bf",
   "metadata": {
    "collapsed": true,
    "jupyter": {
     "outputs_hidden": true
    },
    "tags": []
   },
   "outputs": [],
   "source": [
    "submissions_19_21 = wsb_submissions('2019-01-01', 3)\n",
    "comments_19_21 = wsb_comments('2019-01-01', 3)"
   ]
  },
  {
   "cell_type": "markdown",
   "id": "5f2c7a11",
   "metadata": {},
   "source": [
    "# Write retrieved comments and submissions to csv files"
   ]
  },
  {
   "cell_type": "code",
   "execution_count": 215,
   "id": "d88a4b7c-fbb0-4cea-8c36-e238269379c2",
   "metadata": {},
   "outputs": [],
   "source": [
    "comments_19_21.to_csv('Csv files\\wsb_hot_comments_19_21.csv', index=False)\n",
    "submissions_19_21.to_csv('Csv files\\wsb_hot_subs_19_21.csv', index=False)"
   ]
  }
 ],
 "metadata": {
  "kernelspec": {
   "display_name": "Python 3.10.4 ('DCHOW')",
   "language": "python",
   "name": "python3"
  },
  "language_info": {
   "codemirror_mode": {
    "name": "ipython",
    "version": 3
   },
   "file_extension": ".py",
   "mimetype": "text/x-python",
   "name": "python",
   "nbconvert_exporter": "python",
   "pygments_lexer": "ipython3",
   "version": "3.10.6"
  },
  "vscode": {
   "interpreter": {
    "hash": "9a2661b94f7b93fa0490d408e5faa0804a14713204ff4e77739cfeddff6ffe6b"
   }
  }
 },
 "nbformat": 4,
 "nbformat_minor": 5
}
